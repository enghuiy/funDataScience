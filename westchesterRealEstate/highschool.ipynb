{
 "cells": [
  {
   "cell_type": "code",
   "execution_count": 33,
   "metadata": {
    "collapsed": false
   },
   "outputs": [],
   "source": [
    "# learning to write pythonic code\n",
    "\n",
    "import csv\n",
    "import numpy as np\n",
    "import re\n",
    "import math\n",
    "\n",
    "schoolName=[]; medIncome=[]; SAT_total=[];\n",
    "with open(\"highschool2015_2.csv\",'rU') as csvfile:\n",
    "    csvReader = csv.reader(csvfile)\n",
    "    next(csvReader) # skip header\n",
    "    for row in csvReader:\n",
    "        \n",
    "        \n",
    "        # if medIncome or SAT score is not a number\n",
    "        # skip this record\n",
    "        medIncome_i = re.sub('[$,\"\\s]','',row[2])\n",
    "        SAT_total_i = row[3].split(\"/\")[0]\n",
    "        try:       \n",
    "            SAT_total.append(float(SAT_total_i))\n",
    "            medIncome.append(float(medIncome_i))\n",
    "            schoolName.append(row[0])\n",
    "\n",
    "        except: TypeError\n",
    "\n",
    "N=len(medIncome)"
   ]
  },
  {
   "cell_type": "code",
   "execution_count": 20,
   "metadata": {
    "collapsed": false
   },
   "outputs": [],
   "source": [
    "# prepare data for linear regression\n",
    "\n",
    "# scaling with mean normalization \n",
    "# (probably not required, but good practice)\n",
    "x1_mu = sum(medIncome)/float(N)\n",
    "x1_range = np.amax(medIncome) - np.amin(medIncome)\n",
    "x1_norm = []\n",
    "x1_norm [:] = [ ( x - x1_mu ) / float (x1_range) for x in medIncome]\n",
    "\n",
    "y_mu = sum(SAT_total)/float(N)\n",
    "y_range = np.amax(SAT_total) - np.amin(SAT_total)\n",
    "y_norm = []\n",
    "y_norm [:] = [ ( y - y_mu ) / float (y_range) for y in SAT_total]\n",
    "\n",
    "\n",
    "# univariate linear regression, with x0=1\n",
    "X_train = zip( np.ones(N),x1_norm)"
   ]
  },
  {
   "cell_type": "code",
   "execution_count": 21,
   "metadata": {
    "collapsed": false
   },
   "outputs": [],
   "source": [
    "from sklearn import linear_model as lm\n",
    "\n",
    "# Create linear regression object\n",
    "regr = lm.LinearRegression()\n",
    "regr.fit(X_train, y_norm)\n",
    "\n",
    "# convert y back to abs value\n",
    "y_predicted_norm = regr.predict(X_train)\n",
    "y_predicted = []\n",
    "y_predicted [:] = [ y*y_range+y_mu for y in y_predicted_norm ]\n"
   ]
  },
  {
   "cell_type": "code",
   "execution_count": 22,
   "metadata": {
    "collapsed": false
   },
   "outputs": [
    {
     "data": {
      "image/png": "[encoded data removed]",
      "text/plain": [
       "<matplotlib.figure.Figure at 0x10a22c510>"
      ]
     },
     "metadata": {},
     "output_type": "display_data"
    }
   ],
   "source": [
    "import matplotlib.pyplot as plt\n",
    "%matplotlib inline\n",
    "plt.scatter(medIncome,SAT_total, color='black')\n",
    "\n",
    "plt.plot(medIncome, y_predicted, color='blue', linewidth=3)\n",
    "\n",
    "plt.title(\"SAT score (total) vs. median household income\")\n",
    "\n",
    "\n",
    "plt.xlabel(\"Median Household Income ($)\")\n",
    "plt.ylabel(\"SAT Score (Total)\")\n",
    "\n",
    "\n",
    "plt.show()"
   ]
  },
  {
   "cell_type": "code",
   "execution_count": 59,
   "metadata": {
    "collapsed": false
   },
   "outputs": [
    {
     "name": "stdout",
     "output_type": "stream",
     "text": [
      "Blind Brook (Rye Brook)                  1911.0 1416.0  34.96\n",
      "Bronxville                               1821.0 1533.6  18.74\n",
      "Mamaroneck                               1706.0 1499.4  13.78\n",
      "Rye Neck (Mamaroneck)                    1692.0 1499.4  12.85\n",
      "Croton-Harmon                            1724.0 1561.8  10.39\n",
      "Hastings                                 1808.0 1655.1   9.24\n",
      "Lakeland (Shrub Oak)                     1569.0 1436.4   9.23\n",
      "Yonkers-High                             1447.0 1338.3   8.12\n",
      "New Rochelle                             1472.0 1367.1   7.67\n",
      "Somers                                   1658.0 1544.3   7.36\n",
      "Ardsley                                  1812.0 1692.1   7.09\n",
      "Scarsdale                                1935.0 1826.8   5.92\n",
      "Hendrick Hudson (Montrose)               1601.0 1522.3   5.17\n",
      "Dobbs Ferry                              1645.0 1570.6   4.74\n",
      "Eastchester                              1581.0 1518.6   4.11\n",
      "Ossining                                 1506.0 1449.3   3.91\n",
      "Yorktown                                 1627.0 1577.0   3.17\n",
      "Irvington                                1727.0 1677.5   2.95\n",
      "Harrison                                 1577.0 1550.0   1.74\n",
      "Rye                                      1795.0 1766.6   1.60\n",
      "Briarcliff                               1751.0 1729.5   1.25\n",
      "Edgemont Jr/Sr                           1839.0 1826.8   0.67\n",
      "Pleasantville                            1657.0 1646.3   0.65\n",
      "Tuckahoe                                 1497.0 1518.6  -1.42\n",
      "Byram Hills (Armonk)                     1852.0 1882.1  -1.60\n",
      "Sleepy Hollow (And Tarrytown)            1438.0 1473.1  -2.39\n",
      "Valhalla                                 1541.0 1581.5  -2.56\n",
      "Walter Panas (Cortlandt Manor)           1530.0 1571.4  -2.64\n",
      "Port Chester                             1372.0 1416.0  -3.11\n",
      "Pelham                                   1655.0 1711.7  -3.31\n",
      "Horace Greeley (Chappaqua)               1893.0 1963.2  -3.58\n",
      "Peekskill                                1329.0 1382.1  -3.84\n",
      "North Salem                              1584.0 1661.7  -4.68\n",
      "Alexander Hamilton (Elmsford)            1399.0 1476.6  -5.25\n",
      "Westlake (Mount Pleasant)                1517.0 1608.0  -5.66\n",
      "White Plains                             1493.0 1582.9  -5.68\n",
      "Yonkers-Saunders Trades and Technical    1245.0 1323.8  -5.96\n",
      "Woodlands (Greenburgh)                   1418.0 1521.9  -6.83\n",
      "John Jay (Katonah-Lewisboro)             1744.0 1921.4  -9.23\n",
      "Mount Vernon-Thornton                    1185.0 1308.5  -9.44\n",
      "Fox Lane (Bedford)                       1649.0 1876.2 -12.11\n",
      "Mount Vernon-Mount Vernon High           1227.0 1405.4 -12.69\n",
      "Yonkers-Riverside                        1131.0 1323.8 -14.57\n",
      "Yonkers- Palisade Preparatory            1123.0 1377.6 -18.48\n",
      "Yonkers-Lincoln                          1125.0 1417.8 -20.65\n",
      "Yonkers-Gorton                           1080.0 1377.6 -21.61\n"
     ]
    }
   ],
   "source": [
    "# print out the schools, sorted by % difference between actual and predicted\n",
    "\n",
    "pctDiff = []\n",
    "pctDiff[:] = ( (SAT_total[i]-y_predicted[i])/y_predicted[i]*100 for i,_ in enumerate(schoolName))\n",
    "finalData = zip(schoolName,SAT_total,y_predicted,pctDiff)\n",
    "finalData_sorted = sorted(finalData, key = lambda x : x[3],reverse=True)\n",
    "for school,score,predictedScore,pctDiff in finalData_sorted:\n",
    "    print \"%-40s %6.1f %6.1f %6.2f\" %(school,score,predictedScore,pctDiff)"
   ]
  },
  {
   "cell_type": "code",
   "execution_count": null,
   "metadata": {
    "collapsed": true
   },
   "outputs": [],
   "source": []
  }
 ],
 "metadata": {
  "kernelspec": {
   "display_name": "Python 2",
   "language": "python",
   "name": "python2"
  },
  "language_info": {
   "codemirror_mode": {
    "name": "ipython",
    "version": 2
   },
   "file_extension": ".py",
   "mimetype": "text/x-python",
   "name": "python",
   "nbconvert_exporter": "python",
   "pygments_lexer": "ipython2",
   "version": "2.7.10"
  }
 },
 "nbformat": 4,
 "nbformat_minor": 0
}
